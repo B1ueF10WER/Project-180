{
  "nbformat": 4,
  "nbformat_minor": 0,
  "metadata": {
    "colab": {
      "provenance": [],
      "gpuType": "T4"
    },
    "kernelspec": {
      "name": "python3",
      "display_name": "Python 3"
    },
    "language_info": {
      "name": "python"
    },
    "accelerator": "GPU"
  },
  "cells": [
    {
      "cell_type": "markdown",
      "source": [
        "## Get Data"
      ],
      "metadata": {
        "id": "Oy7tZ5F73tfy"
      }
    },
    {
      "cell_type": "code",
      "source": [
        "# from google.colab import drive\n",
        "# drive.mount('/content/drive')"
      ],
      "metadata": {
        "id": "QBEbEeKnkOPb"
      },
      "execution_count": 200,
      "outputs": []
    },
    {
      "cell_type": "code",
      "source": [
        "# !pip install transformers\n",
        "# !pip install -U tensorflow-text==2.14.0"
      ],
      "metadata": {
        "id": "b_3nqGKBjjqp"
      },
      "execution_count": 201,
      "outputs": []
    },
    {
      "cell_type": "code",
      "execution_count": 202,
      "metadata": {
        "id": "c6EvzBjC1Mn7"
      },
      "outputs": [],
      "source": [
        "import os\n",
        "import pandas as pd\n",
        "import numpy as np\n",
        "import tensorflow as tf\n",
        "import xml.etree.ElementTree as ET\n",
        "import matplotlib.pyplot as plt\n",
        "import sklearn.feature_extraction.text as sk_text\n",
        "from sklearn.model_selection import train_test_split\n",
        "from tensorflow.keras.callbacks import EarlyStopping\n",
        "from tensorflow.keras.callbacks import ModelCheckpoint\n",
        "from sklearn import metrics\n",
        "\n",
        "from sklearn.preprocessing import StandardScaler\n",
        "from tensorflow.keras.models import Model\n",
        "from tensorflow.keras.layers import Input, Dense, Dropout\n",
        "\n",
        "from matplotlib.pyplot import figure, show\n",
        "from collections.abc import Sequence\n",
        "\n",
        "import torch\n",
        "from transformers import AutoTokenizer, TFBertTokenizer, TFBertModel\n",
        "import torch\n",
        "\n",
        "\n",
        "pd.set_option('display.max_columns', None)\n",
        "save_path = \"./toSave/\""
      ]
    },
    {
      "cell_type": "code",
      "source": [
        "def encode_numeric_zscore(df, name, mean=None, sd=None):\n",
        "    if mean is None:\n",
        "        mean = df[name].mean()\n",
        "\n",
        "    if sd is None:\n",
        "        sd = df[name].std()\n",
        "\n",
        "    df[name] = (df[name] - mean) / sd\n",
        "\n",
        "def chart_regression(pred,y,sort=True):\n",
        "    t = pd.DataFrame({'pred' : pred, 'y' : y.flatten()})\n",
        "    if sort:\n",
        "        t.sort_values(by=['y'],inplace=True)\n",
        "    a = plt.plot(t['y'].tolist(),label='expected')\n",
        "    b = plt.plot(t['pred'].tolist(),label='prediction')\n",
        "    plt.ylabel('output')\n",
        "    plt.legend()\n",
        "    plt.show()\n",
        "\n",
        "def encode_text_dummy(df, name):\n",
        "    dummies = pd.get_dummies(df[name])\n",
        "    for x in dummies.columns:\n",
        "        dummy_name = \"{}-{}\".format(name, x)\n",
        "        df[dummy_name] = dummies[x]\n",
        "    df.drop(name, axis=1, inplace=True)\n",
        "\n",
        "def xml_to_df(xml):\n",
        "  xtree = ET.parse(xml)\n",
        "  xroot = xtree.getroot()\n",
        "\n",
        "  rows = []\n",
        "\n",
        "  for node in xroot:\n",
        "    rows.append(node.attrib)\n",
        "\n",
        "  return pd.DataFrame(rows)\n",
        "\n",
        "def decode_zscore_to_original(z_scores, mean, sd):\n",
        "  return z_scores * sd + mean\n",
        "\n",
        "# Regression chart.\n",
        "def chart_regression(pred,y,sort=True):\n",
        "    t = pd.DataFrame({'pred' : pred, 'y' : y.values.flatten()})\n",
        "    if sort:\n",
        "        t.sort_values(by=['y'],inplace=True)\n",
        "    a = plt.plot(t['y'].tolist(),label='expected')\n",
        "    b = plt.plot(t['pred'].tolist(),label='prediction')\n",
        "    plt.ylabel('output')\n",
        "    plt.legend()\n",
        "    plt.show()"
      ],
      "metadata": {
        "id": "TS_tmlYy1TMV"
      },
      "execution_count": 203,
      "outputs": []
    },
    {
      "cell_type": "code",
      "source": [
        "dataset = os.path.join(\"/content/drive/MyDrive/Final/Shared Final/myPosts.xml\")\n",
        "dataset = xml_to_df(dataset)"
      ],
      "metadata": {
        "id": "3v5KTGh9jvlb"
      },
      "execution_count": 204,
      "outputs": []
    },
    {
      "cell_type": "code",
      "source": [
        "df = dataset.drop(columns=['CreationDate',\n",
        "                            'OwnerUserId',\n",
        "                            'LastEditorUserId',\n",
        "                            'LastEditDate',\n",
        "                            'LastActivityDate',\n",
        "                            'Title',\n",
        "                            'Tags',\n",
        "                            'AnswerCount',\n",
        "                            'ContentLicense',\n",
        "                            'ParentId',\n",
        "                            'ClosedDate',\n",
        "                            'CommunityOwnedDate',\n",
        "                            'LastEditorDisplayName',\n",
        "                            'OwnerDisplayName',\n",
        "                            'FavoriteCount',\n",
        "                            'CommentCount',\n",
        "                            'ViewCount',\n",
        "                            'AcceptedAnswerId',\n",
        "                            'Id'\n",
        "                            ])"
      ],
      "metadata": {
        "id": "Z_p4jMQcjzFE"
      },
      "execution_count": 205,
      "outputs": []
    },
    {
      "cell_type": "code",
      "source": [
        "answers = df[df.PostTypeId == '2']\n",
        "answers = answers.drop(columns=['PostTypeId'])\n",
        "answers[\"Score\"] = pd.to_numeric(answers[\"Score\"])"
      ],
      "metadata": {
        "id": "aoeXHZfJj0SJ"
      },
      "execution_count": 206,
      "outputs": []
    },
    {
      "cell_type": "code",
      "source": [
        "encode_numeric_zscore(answers, 'Score')"
      ],
      "metadata": {
        "id": "yeb37D9Uj3cE"
      },
      "execution_count": 207,
      "outputs": []
    },
    {
      "cell_type": "code",
      "source": [
        "# score = answers['Score']\n",
        "# answers.drop('Score',axis=1,inplace=True)\n",
        "answers"
      ],
      "metadata": {
        "colab": {
          "base_uri": "https://localhost:8080/",
          "height": 419
        },
        "id": "Dk_e7L-wj4cD",
        "outputId": "75a90e4a-a601-45c8-c821-1aca5c02285c"
      },
      "execution_count": 208,
      "outputs": [
        {
          "output_type": "execute_result",
          "data": {
            "text/plain": [
              "        Score                                               Body\n",
              "2    0.701092  <p>\"Backprop\" is the same as \"backpropagation\"...\n",
              "6    0.081593  <p>Noise in the data, to a reasonable amount, ...\n",
              "8    0.081593  <p>We typically think of machine learning mode...\n",
              "9    1.114092  <p>There is no direct way to find the optimal ...\n",
              "14  -0.537907  <blockquote>\\n  <p>To put it simply in layman ...\n",
              "..        ...                                                ...\n",
              "374 -0.847657  <blockquote>\\n  <p>\"heavier-than-air flying ma...\n",
              "376 -0.537907  <p>Yes, there were successful attempts at pred...\n",
              "379 -0.847657  <p>Watson can make its diagnosis based on the ...\n",
              "381 -0.641157  <p>There are a variety of aspects where AI can...\n",
              "385 -0.537907  <p>According to IBM Research organization in t...\n",
              "\n",
              "[205 rows x 2 columns]"
            ],
            "text/html": [
              "\n",
              "  <div id=\"df-f5fc433c-cd2c-4ea8-a8c7-b87007961af5\" class=\"colab-df-container\">\n",
              "    <div>\n",
              "<style scoped>\n",
              "    .dataframe tbody tr th:only-of-type {\n",
              "        vertical-align: middle;\n",
              "    }\n",
              "\n",
              "    .dataframe tbody tr th {\n",
              "        vertical-align: top;\n",
              "    }\n",
              "\n",
              "    .dataframe thead th {\n",
              "        text-align: right;\n",
              "    }\n",
              "</style>\n",
              "<table border=\"1\" class=\"dataframe\">\n",
              "  <thead>\n",
              "    <tr style=\"text-align: right;\">\n",
              "      <th></th>\n",
              "      <th>Score</th>\n",
              "      <th>Body</th>\n",
              "    </tr>\n",
              "  </thead>\n",
              "  <tbody>\n",
              "    <tr>\n",
              "      <th>2</th>\n",
              "      <td>0.701092</td>\n",
              "      <td>&lt;p&gt;\"Backprop\" is the same as \"backpropagation\"...</td>\n",
              "    </tr>\n",
              "    <tr>\n",
              "      <th>6</th>\n",
              "      <td>0.081593</td>\n",
              "      <td>&lt;p&gt;Noise in the data, to a reasonable amount, ...</td>\n",
              "    </tr>\n",
              "    <tr>\n",
              "      <th>8</th>\n",
              "      <td>0.081593</td>\n",
              "      <td>&lt;p&gt;We typically think of machine learning mode...</td>\n",
              "    </tr>\n",
              "    <tr>\n",
              "      <th>9</th>\n",
              "      <td>1.114092</td>\n",
              "      <td>&lt;p&gt;There is no direct way to find the optimal ...</td>\n",
              "    </tr>\n",
              "    <tr>\n",
              "      <th>14</th>\n",
              "      <td>-0.537907</td>\n",
              "      <td>&lt;blockquote&gt;\\n  &lt;p&gt;To put it simply in layman ...</td>\n",
              "    </tr>\n",
              "    <tr>\n",
              "      <th>...</th>\n",
              "      <td>...</td>\n",
              "      <td>...</td>\n",
              "    </tr>\n",
              "    <tr>\n",
              "      <th>374</th>\n",
              "      <td>-0.847657</td>\n",
              "      <td>&lt;blockquote&gt;\\n  &lt;p&gt;\"heavier-than-air flying ma...</td>\n",
              "    </tr>\n",
              "    <tr>\n",
              "      <th>376</th>\n",
              "      <td>-0.537907</td>\n",
              "      <td>&lt;p&gt;Yes, there were successful attempts at pred...</td>\n",
              "    </tr>\n",
              "    <tr>\n",
              "      <th>379</th>\n",
              "      <td>-0.847657</td>\n",
              "      <td>&lt;p&gt;Watson can make its diagnosis based on the ...</td>\n",
              "    </tr>\n",
              "    <tr>\n",
              "      <th>381</th>\n",
              "      <td>-0.641157</td>\n",
              "      <td>&lt;p&gt;There are a variety of aspects where AI can...</td>\n",
              "    </tr>\n",
              "    <tr>\n",
              "      <th>385</th>\n",
              "      <td>-0.537907</td>\n",
              "      <td>&lt;p&gt;According to IBM Research organization in t...</td>\n",
              "    </tr>\n",
              "  </tbody>\n",
              "</table>\n",
              "<p>205 rows × 2 columns</p>\n",
              "</div>\n",
              "    <div class=\"colab-df-buttons\">\n",
              "\n",
              "  <div class=\"colab-df-container\">\n",
              "    <button class=\"colab-df-convert\" onclick=\"convertToInteractive('df-f5fc433c-cd2c-4ea8-a8c7-b87007961af5')\"\n",
              "            title=\"Convert this dataframe to an interactive table.\"\n",
              "            style=\"display:none;\">\n",
              "\n",
              "  <svg xmlns=\"http://www.w3.org/2000/svg\" height=\"24px\" viewBox=\"0 -960 960 960\">\n",
              "    <path d=\"M120-120v-720h720v720H120Zm60-500h600v-160H180v160Zm220 220h160v-160H400v160Zm0 220h160v-160H400v160ZM180-400h160v-160H180v160Zm440 0h160v-160H620v160ZM180-180h160v-160H180v160Zm440 0h160v-160H620v160Z\"/>\n",
              "  </svg>\n",
              "    </button>\n",
              "\n",
              "  <style>\n",
              "    .colab-df-container {\n",
              "      display:flex;\n",
              "      gap: 12px;\n",
              "    }\n",
              "\n",
              "    .colab-df-convert {\n",
              "      background-color: #E8F0FE;\n",
              "      border: none;\n",
              "      border-radius: 50%;\n",
              "      cursor: pointer;\n",
              "      display: none;\n",
              "      fill: #1967D2;\n",
              "      height: 32px;\n",
              "      padding: 0 0 0 0;\n",
              "      width: 32px;\n",
              "    }\n",
              "\n",
              "    .colab-df-convert:hover {\n",
              "      background-color: #E2EBFA;\n",
              "      box-shadow: 0px 1px 2px rgba(60, 64, 67, 0.3), 0px 1px 3px 1px rgba(60, 64, 67, 0.15);\n",
              "      fill: #174EA6;\n",
              "    }\n",
              "\n",
              "    .colab-df-buttons div {\n",
              "      margin-bottom: 4px;\n",
              "    }\n",
              "\n",
              "    [theme=dark] .colab-df-convert {\n",
              "      background-color: #3B4455;\n",
              "      fill: #D2E3FC;\n",
              "    }\n",
              "\n",
              "    [theme=dark] .colab-df-convert:hover {\n",
              "      background-color: #434B5C;\n",
              "      box-shadow: 0px 1px 3px 1px rgba(0, 0, 0, 0.15);\n",
              "      filter: drop-shadow(0px 1px 2px rgba(0, 0, 0, 0.3));\n",
              "      fill: #FFFFFF;\n",
              "    }\n",
              "  </style>\n",
              "\n",
              "    <script>\n",
              "      const buttonEl =\n",
              "        document.querySelector('#df-f5fc433c-cd2c-4ea8-a8c7-b87007961af5 button.colab-df-convert');\n",
              "      buttonEl.style.display =\n",
              "        google.colab.kernel.accessAllowed ? 'block' : 'none';\n",
              "\n",
              "      async function convertToInteractive(key) {\n",
              "        const element = document.querySelector('#df-f5fc433c-cd2c-4ea8-a8c7-b87007961af5');\n",
              "        const dataTable =\n",
              "          await google.colab.kernel.invokeFunction('convertToInteractive',\n",
              "                                                    [key], {});\n",
              "        if (!dataTable) return;\n",
              "\n",
              "        const docLinkHtml = 'Like what you see? Visit the ' +\n",
              "          '<a target=\"_blank\" href=https://colab.research.google.com/notebooks/data_table.ipynb>data table notebook</a>'\n",
              "          + ' to learn more about interactive tables.';\n",
              "        element.innerHTML = '';\n",
              "        dataTable['output_type'] = 'display_data';\n",
              "        await google.colab.output.renderOutput(dataTable, element);\n",
              "        const docLink = document.createElement('div');\n",
              "        docLink.innerHTML = docLinkHtml;\n",
              "        element.appendChild(docLink);\n",
              "      }\n",
              "    </script>\n",
              "  </div>\n",
              "\n",
              "\n",
              "<div id=\"df-3f85f985-8321-46f3-a4e8-c934d56b8749\">\n",
              "  <button class=\"colab-df-quickchart\" onclick=\"quickchart('df-3f85f985-8321-46f3-a4e8-c934d56b8749')\"\n",
              "            title=\"Suggest charts\"\n",
              "            style=\"display:none;\">\n",
              "\n",
              "<svg xmlns=\"http://www.w3.org/2000/svg\" height=\"24px\"viewBox=\"0 0 24 24\"\n",
              "     width=\"24px\">\n",
              "    <g>\n",
              "        <path d=\"M19 3H5c-1.1 0-2 .9-2 2v14c0 1.1.9 2 2 2h14c1.1 0 2-.9 2-2V5c0-1.1-.9-2-2-2zM9 17H7v-7h2v7zm4 0h-2V7h2v10zm4 0h-2v-4h2v4z\"/>\n",
              "    </g>\n",
              "</svg>\n",
              "  </button>\n",
              "\n",
              "<style>\n",
              "  .colab-df-quickchart {\n",
              "      --bg-color: #E8F0FE;\n",
              "      --fill-color: #1967D2;\n",
              "      --hover-bg-color: #E2EBFA;\n",
              "      --hover-fill-color: #174EA6;\n",
              "      --disabled-fill-color: #AAA;\n",
              "      --disabled-bg-color: #DDD;\n",
              "  }\n",
              "\n",
              "  [theme=dark] .colab-df-quickchart {\n",
              "      --bg-color: #3B4455;\n",
              "      --fill-color: #D2E3FC;\n",
              "      --hover-bg-color: #434B5C;\n",
              "      --hover-fill-color: #FFFFFF;\n",
              "      --disabled-bg-color: #3B4455;\n",
              "      --disabled-fill-color: #666;\n",
              "  }\n",
              "\n",
              "  .colab-df-quickchart {\n",
              "    background-color: var(--bg-color);\n",
              "    border: none;\n",
              "    border-radius: 50%;\n",
              "    cursor: pointer;\n",
              "    display: none;\n",
              "    fill: var(--fill-color);\n",
              "    height: 32px;\n",
              "    padding: 0;\n",
              "    width: 32px;\n",
              "  }\n",
              "\n",
              "  .colab-df-quickchart:hover {\n",
              "    background-color: var(--hover-bg-color);\n",
              "    box-shadow: 0 1px 2px rgba(60, 64, 67, 0.3), 0 1px 3px 1px rgba(60, 64, 67, 0.15);\n",
              "    fill: var(--button-hover-fill-color);\n",
              "  }\n",
              "\n",
              "  .colab-df-quickchart-complete:disabled,\n",
              "  .colab-df-quickchart-complete:disabled:hover {\n",
              "    background-color: var(--disabled-bg-color);\n",
              "    fill: var(--disabled-fill-color);\n",
              "    box-shadow: none;\n",
              "  }\n",
              "\n",
              "  .colab-df-spinner {\n",
              "    border: 2px solid var(--fill-color);\n",
              "    border-color: transparent;\n",
              "    border-bottom-color: var(--fill-color);\n",
              "    animation:\n",
              "      spin 1s steps(1) infinite;\n",
              "  }\n",
              "\n",
              "  @keyframes spin {\n",
              "    0% {\n",
              "      border-color: transparent;\n",
              "      border-bottom-color: var(--fill-color);\n",
              "      border-left-color: var(--fill-color);\n",
              "    }\n",
              "    20% {\n",
              "      border-color: transparent;\n",
              "      border-left-color: var(--fill-color);\n",
              "      border-top-color: var(--fill-color);\n",
              "    }\n",
              "    30% {\n",
              "      border-color: transparent;\n",
              "      border-left-color: var(--fill-color);\n",
              "      border-top-color: var(--fill-color);\n",
              "      border-right-color: var(--fill-color);\n",
              "    }\n",
              "    40% {\n",
              "      border-color: transparent;\n",
              "      border-right-color: var(--fill-color);\n",
              "      border-top-color: var(--fill-color);\n",
              "    }\n",
              "    60% {\n",
              "      border-color: transparent;\n",
              "      border-right-color: var(--fill-color);\n",
              "    }\n",
              "    80% {\n",
              "      border-color: transparent;\n",
              "      border-right-color: var(--fill-color);\n",
              "      border-bottom-color: var(--fill-color);\n",
              "    }\n",
              "    90% {\n",
              "      border-color: transparent;\n",
              "      border-bottom-color: var(--fill-color);\n",
              "    }\n",
              "  }\n",
              "</style>\n",
              "\n",
              "  <script>\n",
              "    async function quickchart(key) {\n",
              "      const quickchartButtonEl =\n",
              "        document.querySelector('#' + key + ' button');\n",
              "      quickchartButtonEl.disabled = true;  // To prevent multiple clicks.\n",
              "      quickchartButtonEl.classList.add('colab-df-spinner');\n",
              "      try {\n",
              "        const charts = await google.colab.kernel.invokeFunction(\n",
              "            'suggestCharts', [key], {});\n",
              "      } catch (error) {\n",
              "        console.error('Error during call to suggestCharts:', error);\n",
              "      }\n",
              "      quickchartButtonEl.classList.remove('colab-df-spinner');\n",
              "      quickchartButtonEl.classList.add('colab-df-quickchart-complete');\n",
              "    }\n",
              "    (() => {\n",
              "      let quickchartButtonEl =\n",
              "        document.querySelector('#df-3f85f985-8321-46f3-a4e8-c934d56b8749 button');\n",
              "      quickchartButtonEl.style.display =\n",
              "        google.colab.kernel.accessAllowed ? 'block' : 'none';\n",
              "    })();\n",
              "  </script>\n",
              "</div>\n",
              "    </div>\n",
              "  </div>\n"
            ]
          },
          "metadata": {},
          "execution_count": 208
        }
      ]
    },
    {
      "cell_type": "code",
      "source": [
        "answers['Score']"
      ],
      "metadata": {
        "colab": {
          "base_uri": "https://localhost:8080/"
        },
        "id": "El_WG7YUZlhe",
        "outputId": "e08b7801-a799-4dac-aaf0-2eec1666bc8c"
      },
      "execution_count": 209,
      "outputs": [
        {
          "output_type": "execute_result",
          "data": {
            "text/plain": [
              "2      0.701092\n",
              "6      0.081593\n",
              "8      0.081593\n",
              "9      1.114092\n",
              "14    -0.537907\n",
              "         ...   \n",
              "374   -0.847657\n",
              "376   -0.537907\n",
              "379   -0.847657\n",
              "381   -0.641157\n",
              "385   -0.537907\n",
              "Name: Score, Length: 205, dtype: float64"
            ]
          },
          "metadata": {},
          "execution_count": 209
        }
      ]
    },
    {
      "cell_type": "markdown",
      "source": [
        "## Load BERT Model\n",
        "### Code from: https://huggingface.co/docs/transformers/model_doc/bert#transformers.BertModel"
      ],
      "metadata": {
        "id": "q6oM0OCn315Y"
      }
    },
    {
      "cell_type": "code",
      "source": [
        "# creates a TF compatible version\n",
        "tf_tokenizer = TFBertTokenizer.from_pretrained(\"bert-base-uncased\")\n",
        "# loads the pre-trained BERT model\n",
        "model = TFBertModel.from_pretrained(\"bert-base-uncased\")"
      ],
      "metadata": {
        "colab": {
          "base_uri": "https://localhost:8080/"
        },
        "id": "DuGXEqf6Hmln",
        "outputId": "9551a546-90d2-44e5-ad69-3d09c409faee"
      },
      "execution_count": 210,
      "outputs": [
        {
          "output_type": "stream",
          "name": "stderr",
          "text": [
            "Some weights of the PyTorch model were not used when initializing the TF 2.0 model TFBertModel: ['cls.predictions.transform.LayerNorm.bias', 'cls.predictions.transform.dense.weight', 'cls.predictions.transform.LayerNorm.weight', 'cls.predictions.bias', 'cls.seq_relationship.bias', 'cls.predictions.transform.dense.bias', 'cls.seq_relationship.weight']\n",
            "- This IS expected if you are initializing TFBertModel from a PyTorch model trained on another task or with another architecture (e.g. initializing a TFBertForSequenceClassification model from a BertForPreTraining model).\n",
            "- This IS NOT expected if you are initializing TFBertModel from a PyTorch model that you expect to be exactly identical (e.g. initializing a TFBertForSequenceClassification model from a BertForSequenceClassification model).\n",
            "All the weights of TFBertModel were initialized from the PyTorch model.\n",
            "If your task is similar to the task the model of the checkpoint was trained on, you can already use TFBertModel for predictions without further training.\n"
          ]
        }
      ]
    },
    {
      "cell_type": "code",
      "source": [
        "train_data, test_data, train_score, test_score = train_test_split(answers['Body'], answers['Score'], test_size=0.2, random_state=42)"
      ],
      "metadata": {
        "id": "YtG6gIi0SPyA"
      },
      "execution_count": 211,
      "outputs": []
    },
    {
      "cell_type": "code",
      "source": [
        "# Tokenize the input data\n",
        "max_length = 64\n",
        "train_data_tokens = tf_tokenizer(train_data.tolist(), padding='max_length', truncation=True, max_length=max_length)\n",
        "test_data_tokens = tf_tokenizer(test_data.tolist(), padding='max_length', truncation=True, max_length=max_length)"
      ],
      "metadata": {
        "id": "hxP7xz1nIEyc"
      },
      "execution_count": 212,
      "outputs": []
    },
    {
      "cell_type": "code",
      "source": [
        "# # Generate embeddings\n",
        "# outputs = model(**matrix)\n",
        "# # Extract embeddings from the output\n",
        "# last_hidden_states = outputs.last_hidden_state"
      ],
      "metadata": {
        "id": "C3D8akPWIGOn"
      },
      "execution_count": 213,
      "outputs": []
    },
    {
      "cell_type": "code",
      "source": [
        "# Convert your score data to numpy arrays\n",
        "train_score_np = train_score.to_numpy()\n",
        "test_score_np = test_score.to_numpy()"
      ],
      "metadata": {
        "id": "I75v3jOjMZTe"
      },
      "execution_count": 214,
      "outputs": []
    },
    {
      "cell_type": "code",
      "source": [
        "# Define regression head\n",
        "input_ids = Input(shape=(max_length,), dtype=tf.int32, name=\"input_ids\")\n",
        "bert_output = model(input_ids)[0]  # Take the output embeddings from BERT\n",
        "dropout = Dropout(0.1)(bert_output)\n",
        "regression_output = Dense(1, activation='linear')(dropout)"
      ],
      "metadata": {
        "id": "iPQqmifpT86n"
      },
      "execution_count": 215,
      "outputs": []
    },
    {
      "cell_type": "code",
      "source": [
        "# Combine BERT model and regression head\n",
        "model = Model(inputs=input_ids, outputs=regression_output)"
      ],
      "metadata": {
        "id": "IUXzz2V3UhD4"
      },
      "execution_count": 216,
      "outputs": []
    },
    {
      "cell_type": "code",
      "source": [
        "model.compile(optimizer='adam', loss='mean_squared_error')\n",
        "monitor = EarlyStopping(monitor='val_loss', min_delta=1e-3, patience=5, verbose=1, mode='auto')"
      ],
      "metadata": {
        "id": "N8H-fhtpPgBo"
      },
      "execution_count": 217,
      "outputs": []
    },
    {
      "cell_type": "code",
      "source": [
        "# Display the model summary\n",
        "model.summary()"
      ],
      "metadata": {
        "colab": {
          "base_uri": "https://localhost:8080/"
        },
        "id": "S86H8R00PQZo",
        "outputId": "a59ef3d4-7c78-4745-97ed-e17547d2678f"
      },
      "execution_count": 218,
      "outputs": [
        {
          "output_type": "stream",
          "name": "stdout",
          "text": [
            "Model: \"model_1\"\n",
            "_________________________________________________________________\n",
            " Layer (type)                Output Shape              Param #   \n",
            "=================================================================\n",
            " input_ids (InputLayer)      [(None, 64)]              0         \n",
            "                                                                 \n",
            " tf_bert_model_9 (TFBertMod  TFBaseModelOutputWithPo   109482240 \n",
            " el)                         olingAndCrossAttentions             \n",
            "                             (last_hidden_state=(Non             \n",
            "                             e, 64, 768),                        \n",
            "                              pooler_output=(None, 7             \n",
            "                             68),                                \n",
            "                              past_key_values=None,              \n",
            "                             hidden_states=None, att             \n",
            "                             entions=None, cross_att             \n",
            "                             entions=None)                       \n",
            "                                                                 \n",
            " dropout_371 (Dropout)       (None, 64, 768)           0         \n",
            "                                                                 \n",
            " dense_1 (Dense)             (None, 64, 1)             769       \n",
            "                                                                 \n",
            "=================================================================\n",
            "Total params: 109483009 (417.64 MB)\n",
            "Trainable params: 109483009 (417.64 MB)\n",
            "Non-trainable params: 0 (0.00 Byte)\n",
            "_________________________________________________________________\n"
          ]
        }
      ]
    },
    {
      "cell_type": "code",
      "source": [
        "model.fit(train_data_tokens, train_score_np, epochs=epochs, batch_size=batch_size, validation_data=(test_data_tokens, test_score_np))"
      ],
      "metadata": {
        "id": "z21jR448UoCv"
      },
      "execution_count": null,
      "outputs": []
    },
    {
      "cell_type": "code",
      "source": [
        "pred = model.predict(test_data_tokens)"
      ],
      "metadata": {
        "colab": {
          "base_uri": "https://localhost:8080/"
        },
        "id": "U8BRQQ-7VBJh",
        "outputId": "c2e002fb-6b18-4cfc-ba77-62ccd7c4d0c0"
      },
      "execution_count": 220,
      "outputs": [
        {
          "output_type": "stream",
          "name": "stdout",
          "text": [
            "2/2 [==============================] - 4s 69ms/step\n"
          ]
        }
      ]
    },
    {
      "cell_type": "code",
      "source": [
        "pred_flat = pred.flatten()\n"
      ],
      "metadata": {
        "id": "ssgji41pXGFk"
      },
      "execution_count": 225,
      "outputs": []
    },
    {
      "cell_type": "code",
      "source": [
        "print(\"Old Predictions:\", pred)\n",
        "\n",
        "print(\"Predictions:\", pred_flat)\n",
        "print(\"True Values:\", test_score)\n"
      ],
      "metadata": {
        "id": "5K4N4Z64V_P_"
      },
      "execution_count": null,
      "outputs": []
    },
    {
      "cell_type": "code",
      "source": [
        "print(pred_flat.shape, test_score_np.shape)"
      ],
      "metadata": {
        "colab": {
          "base_uri": "https://localhost:8080/"
        },
        "id": "H0cBXYZSX0nM",
        "outputId": "f4d819de-192a-460e-c6ad-bf866002fe06"
      },
      "execution_count": 227,
      "outputs": [
        {
          "output_type": "stream",
          "name": "stdout",
          "text": [
            "(2624,) (41,)\n"
          ]
        }
      ]
    },
    {
      "cell_type": "markdown",
      "source": [
        "## Extra"
      ],
      "metadata": {
        "id": "UnxRM6pBHo7G"
      }
    },
    {
      "cell_type": "code",
      "source": [
        "# model = Sequential()\n",
        "\n",
        "# activation_terms = ['relu', 'tanh', 'sigmoid']\n",
        "# optimizer_terms = ['adam','sgd']\n",
        "# for i in activation_terms:\n",
        "#     for j in optimizer_terms:\n",
        "#         model.add(Dense(25000, input_dim=X.shape[1], activation=i))\n",
        "#         model.add(Dense(1000, activation=i))\n",
        "#         model.add(Dense(1000, activation=i))\n",
        "#         model.add(Dense(1000, activation=i))\n",
        "#         model.add(Dense(100, activation=i))\n",
        "#         model.add(Dense(10, activation=i))\n",
        "#         model.add(Dense(1))\n",
        "#         model.compile(loss='mean_squared_error', optimizer=j)\n",
        "#         monitor = EarlyStopping(monitor='val_loss', min_delta=1e-8, patience=10, verbose=1, mode='auto')\n",
        "#         checkpointer = ModelCheckpoint(filepath=\"best_weights/best_weights.hdf5\", verbose=0, save_best_only=True)\n",
        "#         model.fit(  x_train,\n",
        "#                     y_train,\n",
        "#                     validation_data=(x_test,y_test),\n",
        "#                     callbacks=[monitor,checkpointer],\n",
        "#                     verbose=2,\n",
        "#                     epochs=500)\n",
        "\n",
        "#         model.load_weights('best_weights/best_weights.hdf5')\n",
        "#         pred = model.predict(x_test)\n",
        "#         score = np.sqrt(metrics.mean_squared_error(pred,y_test))\n",
        "#         print(\"Score (RMSE): {}\".format(score))\n",
        "\n",
        "#         model.save('my_model.keras')\n",
        "#         chart_regression(pred.flatten(),y_test, sort= True)"
      ],
      "metadata": {
        "id": "3FhSjtOpHq6t"
      },
      "execution_count": 224,
      "outputs": []
    }
  ]
}